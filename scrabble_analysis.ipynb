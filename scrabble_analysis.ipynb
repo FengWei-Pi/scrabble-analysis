{
  "nbformat": 4,
  "nbformat_minor": 0,
  "metadata": {
    "colab": {
      "provenance": []
    },
    "kernelspec": {
      "name": "python3",
      "display_name": "Python 3"
    },
    "language_info": {
      "name": "python"
    }
  },
  "cells": [
    {
      "cell_type": "code",
      "source": [
        "# prompt: BeautifulSoup find only elements where an attribute contains a sub-string\n",
        "\n",
        "from bs4 import BeautifulSoup\n",
        "\n",
        "# Sample HTML content\n",
        "html_content = \"\"\"\n",
        "<div class=\"item-container\">\n",
        "  <a href=\"/product1\" data-product-id=\"123\">Product 1</a>\n",
        "  <a href=\"/product2\" data-product-id=\"456-xyz\">Product 2</a>\n",
        "  <a href=\"/product3\" data-product-id=\"789\">Product 3</a>\n",
        "  <span data-product-id=\"abc-def\">Some Text</span>\n",
        "</div>\n",
        "\"\"\"\n",
        "\n",
        "soup = BeautifulSoup(html_content, 'html.parser')\n",
        "\n",
        "\n",
        "# Find all elements where the 'data-product-id' attribute contains the substring \"xyz\"\n",
        "elements = soup.find_next('a', attrs={\"href\": lambda value: value and \"xyz\" in value})\n",
        "\n",
        "\n",
        "# Print the elements\n",
        "for element in elements:\n",
        "element\n"
      ],
      "metadata": {
        "colab": {
          "base_uri": "https://localhost:8080/"
        },
        "id": "NQt0LCp730gC",
        "outputId": "ce0eab80-41dc-4ff2-f6db-5786ae2489c6"
      },
      "execution_count": null,
      "outputs": [
        {
          "output_type": "execute_result",
          "data": {
            "text/plain": [
              "10"
            ]
          },
          "metadata": {},
          "execution_count": 35
        }
      ]
    },
    {
      "cell_type": "code",
      "execution_count": 2,
      "metadata": {
        "id": "cuCuGudC05xE"
      },
      "outputs": [],
      "source": [
        "import requests\n",
        "import math\n",
        "import random\n",
        "import time\n",
        "from bs4 import BeautifulSoup"
      ]
    },
    {
      "cell_type": "code",
      "source": [
        "def URL(offset):\n",
        "  assert(offset >= 0)\n",
        "  return f\"https://www.cross-tables.com/annolistself.php?offset={offset}\"\n",
        "\n",
        "def GAME_URL(num):\n",
        "  assert(num >= 0)\n",
        "  return f\"https://www.cross-tables.com/annotated/selfgcg/{math.floor(num/100)}/anno{num}.gcg\""
      ],
      "metadata": {
        "id": "LrepXSV8GAhB"
      },
      "execution_count": 4,
      "outputs": []
    },
    {
      "cell_type": "code",
      "source": [
        "headers = {\n",
        "  'User-Agent': 'Mozilla/5.0 (Macintosh; Intel Mac OS X 10.12; rv:55.0) Gecko/20100101 Firefox/55.0',\n",
        "}\n",
        "\n",
        "game_link_url = 'annotated.php?u='\n",
        "\n",
        "def get_first_game_num(offset):\n",
        "  \"\"\"\n",
        "  Returns the first game number on the page of annotated games.\n",
        "\n",
        "  Args:\n",
        "    offset: The offset number used in the URL.\n",
        "\n",
        "  Returns:\n",
        "    The list of game numbers on the page.\n",
        "  \"\"\"\n",
        "  assert(offset >= 0)\n",
        "\n",
        "  # Get the page of annotated games\n",
        "  response = requests.get(URL(offset=offset), headers=headers)\n",
        "  soup = BeautifulSoup(response.content, 'html.parser')\n",
        "\n",
        "  link = soup.find('a', attrs={'href': lambda value: game_link_url in value})\n",
        "  link = link.get('href')\n",
        "  return(int(link[len(game_link_url):]))\n",
        "\n",
        "def get_game_data(game_num, debug=False):\n",
        "  \"\"\"\n",
        "  Returns the game data for the given game number.\n",
        "\n",
        "  Args:\n",
        "    game_num: The game number.\n",
        "\n",
        "  Returns:\n",
        "    A tuple (winner, score_difference). winner is a player index,\n",
        "    is none if no winner. The index for the player who made the first\n",
        "    move is 0, the second player is 1. score_difference is the difference\n",
        "    in scores between the winnder and loser.\n",
        "  \"\"\"\n",
        "  assert(game_num >= 0)\n",
        "\n",
        "  response = requests.get(GAME_URL(game_num), headers=headers)\n",
        "  content = response.content.decode('utf-8')\n",
        "\n",
        "  player_1 = \">\" + content.split('#player1')[1].split()[0]\n",
        "  player_2 = \">\" + content.split('#player2')[1].split()[0]\n",
        "\n",
        "  score_1 = content.split(player_1)[-1].splitlines()[0].split()[-1]\n",
        "  score_2 = content.split(player_2)[-1].splitlines()[0].split()[-1]\n",
        "\n",
        "  if debug:\n",
        "    print(f\"player_1: {player_1}, player_2: {player_2}\")\n",
        "    print(f\"score_1: {score_1}, score_2: {score_2}\")\n",
        "\n",
        "  winner = None\n",
        "  score_difference = 0\n",
        "  if score_1 > score_2:\n",
        "    winner = 0\n",
        "    score_difference = int(score_1) - int(score_2)\n",
        "  elif score_1 < score_2:\n",
        "    winner = 1\n",
        "    score_difference = int(score_2) - int(score_1)\n",
        "\n",
        "  return (winner, score_difference)"
      ],
      "metadata": {
        "id": "uZaiHf-cQwBi"
      },
      "execution_count": 115,
      "outputs": []
    },
    {
      "cell_type": "code",
      "source": [
        "total_offsets = 43520\n",
        "sample_size = 1000\n",
        "num_games = 0\n",
        "total_wins = 0 # total number of wins for player 0\n",
        "total_draws = 0\n",
        "\n",
        "# Get random game data\n",
        "offsets = random.sample(range(total_offsets+1), sample_size)\n",
        "\n",
        "for offset in offsets:\n",
        "  try:\n",
        "    game_num = get_first_game_num(offset)\n",
        "    game_data = get_game_data(game_num)\n",
        "  except Exception as e:\n",
        "    print(f\"Offset Error: {offset}\")\n",
        "    print(e)\n",
        "    continue\n",
        "\n",
        "  if (game_data[1] == None):\n",
        "    total_draws += 1\n",
        "  elif (game_data[0] == 0):\n",
        "    total_wins += 1\n",
        "  num_games += 1\n",
        "\n",
        "print(f\"total wins for player 0: {total_wins}\")\n",
        "print(f\"total draws: {total_draws}\")\n",
        "print(f\"total games: {num_games}\")"
      ],
      "metadata": {
        "colab": {
          "base_uri": "https://localhost:8080/"
        },
        "id": "oSKNY6jL13VO",
        "outputId": "4646549b-0873-43d9-b01a-d88f940e4751",
        "collapsed": true
      },
      "execution_count": 117,
      "outputs": [
        {
          "output_type": "stream",
          "name": "stdout",
          "text": [
            "Offset Error: 11997\n",
            "invalid literal for int() with base 10: 'Berofsky'\n",
            "Offset Error: 24153\n",
            "list index out of range\n",
            "total wins for player 0: 548\n",
            "total draws: 0\n",
            "total games: 998\n"
          ]
        }
      ]
    },
    {
      "cell_type": "code",
      "source": [
        "# TESTING\n",
        "game_num = get_first_game_num(40469)\n",
        "game_data = get_game_data(game_num, debug=True)\n",
        "print(game_data)\n"
      ],
      "metadata": {
        "colab": {
          "base_uri": "https://localhost:8080/",
          "height": 0
        },
        "collapsed": true,
        "id": "WmvBR3ueo_HV",
        "outputId": "69b46269-f0e0-42ee-b108-0e4d37bde45f"
      },
      "execution_count": 31,
      "outputs": [
        {
          "output_type": "stream",
          "name": "stdout",
          "text": [
            "player_1: >Makbuk, player_2: >Ronald\n",
            "score_1: Makbul, score_2: 393\n",
            "#player1 Makbuk Makbul\n",
            ":  (RST) +6 393\n"
          ]
        },
        {
          "output_type": "error",
          "ename": "ValueError",
          "evalue": "invalid literal for int() with base 10: 'Makbul'",
          "traceback": [
            "\u001b[0;31m---------------------------------------------------------------------------\u001b[0m",
            "\u001b[0;31mValueError\u001b[0m                                Traceback (most recent call last)",
            "\u001b[0;32m<ipython-input-31-b92b8720d0ab>\u001b[0m in \u001b[0;36m<cell line: 0>\u001b[0;34m()\u001b[0m\n\u001b[1;32m      1\u001b[0m \u001b[0mgame_nums\u001b[0m \u001b[0;34m=\u001b[0m \u001b[0mget_game_nums\u001b[0m\u001b[0;34m(\u001b[0m\u001b[0;36m40469\u001b[0m\u001b[0;34m)\u001b[0m\u001b[0;34m\u001b[0m\u001b[0;34m\u001b[0m\u001b[0m\n\u001b[0;32m----> 2\u001b[0;31m \u001b[0mgame_data\u001b[0m \u001b[0;34m=\u001b[0m \u001b[0mget_game_data\u001b[0m\u001b[0;34m(\u001b[0m\u001b[0mgame_nums\u001b[0m\u001b[0;34m[\u001b[0m\u001b[0;36m0\u001b[0m\u001b[0;34m]\u001b[0m\u001b[0;34m,\u001b[0m \u001b[0mdebug\u001b[0m\u001b[0;34m=\u001b[0m\u001b[0;32mTrue\u001b[0m\u001b[0;34m)\u001b[0m\u001b[0;34m\u001b[0m\u001b[0;34m\u001b[0m\u001b[0m\n\u001b[0m\u001b[1;32m      3\u001b[0m \u001b[0mprint\u001b[0m\u001b[0;34m(\u001b[0m\u001b[0mgame_data\u001b[0m\u001b[0;34m)\u001b[0m\u001b[0;34m\u001b[0m\u001b[0;34m\u001b[0m\u001b[0m\n",
            "\u001b[0;32m<ipython-input-30-8c1efae25f18>\u001b[0m in \u001b[0;36mget_game_data\u001b[0;34m(game_num, debug)\u001b[0m\n\u001b[1;32m     72\u001b[0m   \u001b[0;32mif\u001b[0m \u001b[0mscore_1\u001b[0m \u001b[0;34m>\u001b[0m \u001b[0mscore_2\u001b[0m\u001b[0;34m:\u001b[0m\u001b[0;34m\u001b[0m\u001b[0;34m\u001b[0m\u001b[0m\n\u001b[1;32m     73\u001b[0m     \u001b[0mwinner\u001b[0m \u001b[0;34m=\u001b[0m \u001b[0;36m0\u001b[0m\u001b[0;34m\u001b[0m\u001b[0;34m\u001b[0m\u001b[0m\n\u001b[0;32m---> 74\u001b[0;31m     \u001b[0mscore_difference\u001b[0m \u001b[0;34m=\u001b[0m \u001b[0mint\u001b[0m\u001b[0;34m(\u001b[0m\u001b[0mscore_1\u001b[0m\u001b[0;34m)\u001b[0m \u001b[0;34m-\u001b[0m \u001b[0mint\u001b[0m\u001b[0;34m(\u001b[0m\u001b[0mscore_2\u001b[0m\u001b[0;34m)\u001b[0m\u001b[0;34m\u001b[0m\u001b[0;34m\u001b[0m\u001b[0m\n\u001b[0m\u001b[1;32m     75\u001b[0m   \u001b[0;32melif\u001b[0m \u001b[0mscore_1\u001b[0m \u001b[0;34m<\u001b[0m \u001b[0mscore_2\u001b[0m\u001b[0;34m:\u001b[0m\u001b[0;34m\u001b[0m\u001b[0;34m\u001b[0m\u001b[0m\n\u001b[1;32m     76\u001b[0m     \u001b[0mwinner\u001b[0m \u001b[0;34m=\u001b[0m \u001b[0;36m1\u001b[0m\u001b[0;34m\u001b[0m\u001b[0;34m\u001b[0m\u001b[0m\n",
            "\u001b[0;31mValueError\u001b[0m: invalid literal for int() with base 10: 'Makbul'"
          ]
        }
      ]
    },
    {
      "cell_type": "code",
      "source": [
        "import statsmodels.api as sm\n",
        "import matplotlib.pyplot as plt\n",
        "import statistics\n",
        "import math"
      ],
      "metadata": {
        "id": "6oY1QeZ40M7z"
      },
      "execution_count": 78,
      "outputs": []
    },
    {
      "cell_type": "code",
      "source": [
        "def get_confidence_interval(sample_size, p):\n",
        "  return [p-1.96*math.sqrt(p*(1-p)/sample_size), p+1.96*math.sqrt(p*(1-p)/sample_size)]\n",
        "\n",
        "def plot_confidence_interval(x, estimate, ci, horizontal_line_width=0.03):\n",
        "    left = x - horizontal_line_width / 2\n",
        "    top = ci[1]\n",
        "    right = x + horizontal_line_width / 2\n",
        "    bottom = ci[0]\n",
        "    plt.plot([x, x], [top, bottom], color='black')\n",
        "    plt.plot([left, right], [top, top], color='black')\n",
        "    plt.plot([left, right], [bottom, bottom], color='black')\n",
        "    plt.plot(x, estimate, 'o', color='black')"
      ],
      "metadata": {
        "id": "YtcvRK60_ZT3"
      },
      "execution_count": 58,
      "outputs": []
    },
    {
      "cell_type": "code",
      "source": [
        "# From web scraping above\n",
        "sample_size = 998\n",
        "wins_player_1 = 548\n",
        "wins_player_2 = 998 - 548\n",
        "p1 = wins_player_1 / sample_size\n",
        "p2 = wins_player_2 / sample_size"
      ],
      "metadata": {
        "id": "olJeimu--aMP"
      },
      "execution_count": 118,
      "outputs": []
    },
    {
      "cell_type": "code",
      "source": [
        "plt.xticks([1, 2], ['First Player', 'Second Player'])\n",
        "plt.title('Scrabble Win Percents')\n",
        "ci1 = get_confidence_interval(sample_size, p1)\n",
        "ci2 = get_confidence_interval(sample_size, p2)\n",
        "\n",
        "plot_confidence_interval(1, p1, ci1)\n",
        "plot_confidence_interval(2, p2, ci2)\n",
        "\n",
        "print(f'player 1 win percent: {p1}, ci {ci1}')\n",
        "print(f'player 2 win percent: {p2}, ci {ci2}')\n",
        "\n",
        "plt.margins(x=0.75, y=0.25)\n",
        "plt.gcf().set_size_inches(5, 3)\n",
        "plt.show()"
      ],
      "metadata": {
        "colab": {
          "base_uri": "https://localhost:8080/",
          "height": 349
        },
        "id": "TStU_pExBcHH",
        "outputId": "de2fc044-674b-43ad-b3d8-fe708369e39f"
      },
      "execution_count": 121,
      "outputs": [
        {
          "output_type": "stream",
          "name": "stdout",
          "text": [
            "player 1 win percent: 0.5490981963927856, ci [0.5182267629388541, 0.5799696298467171]\n",
            "player 2 win percent: 0.45090180360721444, ci [0.4200303701532829, 0.481773237061146]\n"
          ]
        },
        {
          "output_type": "display_data",
          "data": {
            "text/plain": [
              "<Figure size 500x300 with 1 Axes>"
            ],
            "image/png": "[encoded data removed]"
          },
          "metadata": {}
        }
      ]
    },
    {
      "cell_type": "code",
      "source": [
        "result = sm.stats.mcnemar(\n",
        "  [\n",
        "    [0, wins_player_1],\n",
        "    [wins_player_2, 0]\n",
        "  ]\n",
        "  , exact=False\n",
        ")\n",
        "print(result)"
      ],
      "metadata": {
        "colab": {
          "base_uri": "https://localhost:8080/"
        },
        "id": "apWb9ZBfBEpU",
        "outputId": "49594d1e-a394-437f-f3f5-cfd506135f17"
      },
      "execution_count": 120,
      "outputs": [
        {
          "output_type": "stream",
          "name": "stdout",
          "text": [
            "pvalue      0.0021371403402996314\n",
            "statistic   9.427855711422845\n"
          ]
        }
      ]
    }
  ]
}